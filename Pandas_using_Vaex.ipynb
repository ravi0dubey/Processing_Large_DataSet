{
 "cells": [
  {
   "cell_type": "code",
   "execution_count": 1,
   "id": "ed8cc915-d494-4b27-962b-3476ea2ca820",
   "metadata": {},
   "outputs": [],
   "source": [
    "import pandas as pd\n",
    "from datetime import datetime"
   ]
  },
  {
   "cell_type": "code",
   "execution_count": 12,
   "id": "2096fcb1-6d84-4ef6-81c3-5b00fb9d5746",
   "metadata": {},
   "outputs": [
    {
     "name": "stdout",
     "output_type": "stream",
     "text": [
      "Duration: 0:01:26.864695\n"
     ]
    }
   ],
   "source": [
    "start_time = datetime.now()\n",
    "df= pd.read_csv('price_paid_records.csv')\n",
    "end_time = datetime.now()\n",
    "print('Duration: {}'.format(end_time - start_time))"
   ]
  },
  {
   "cell_type": "code",
   "execution_count": 3,
   "id": "dda3188e-a11f-40b2-9f78-26f95e688af0",
   "metadata": {},
   "outputs": [
    {
     "name": "stdout",
     "output_type": "stream",
     "text": [
      "Duration: 0:00:00\n"
     ]
    }
   ],
   "source": [
    "start_time = datetime.now()\n",
    "df.head(2)\n",
    "end_time = datetime.now()\n",
    "print('Duration: {}'.format(end_time - start_time))"
   ]
  },
  {
   "cell_type": "code",
   "execution_count": 13,
   "id": "68a24971-e258-4651-a407-de6a80ad52cc",
   "metadata": {},
   "outputs": [
    {
     "name": "stdout",
     "output_type": "stream",
     "text": [
      "<class 'pandas.core.frame.DataFrame'>\n",
      "RangeIndex: 22489348 entries, 0 to 22489347\n",
      "Data columns (total 11 columns):\n",
      " #   Column                             Dtype \n",
      "---  ------                             ----- \n",
      " 0   Transaction unique identifier      object\n",
      " 1   Price                              int64 \n",
      " 2   Date of Transfer                   object\n",
      " 3   Property Type                      object\n",
      " 4   Old/New                            object\n",
      " 5   Duration                           object\n",
      " 6   Town/City                          object\n",
      " 7   District                           object\n",
      " 8   County                             object\n",
      " 9   PPDCategory Type                   object\n",
      " 10  Record Status - monthly file only  object\n",
      "dtypes: int64(1), object(10)\n",
      "memory usage: 1.8+ GB\n",
      "Duration: 0:00:00.010924\n"
     ]
    }
   ],
   "source": [
    "start_time = datetime.now()\n",
    "df.info()\n",
    "end_time = datetime.now()\n",
    "print('Duration: {}'.format(end_time - start_time))\n"
   ]
  },
  {
   "cell_type": "code",
   "execution_count": 5,
   "id": "f350070c-c54b-4ba1-b031-672782d6d8af",
   "metadata": {},
   "outputs": [
    {
     "name": "stdout",
     "output_type": "stream",
     "text": [
      "<class 'pandas.core.frame.DataFrame'>\n",
      "RangeIndex: 22489348 entries, 0 to 22489347\n",
      "Data columns (total 11 columns):\n",
      " #   Column                             Dtype \n",
      "---  ------                             ----- \n",
      " 0   Transaction unique identifier      object\n",
      " 1   Price                              int64 \n",
      " 2   Date of Transfer                   object\n",
      " 3   Property Type                      object\n",
      " 4   Old/New                            object\n",
      " 5   Duration                           object\n",
      " 6   Town/City                          object\n",
      " 7   District                           object\n",
      " 8   County                             object\n",
      " 9   PPDCategory Type                   object\n",
      " 10  Record Status - monthly file only  object\n",
      "dtypes: int64(1), object(10)\n",
      "memory usage: 14.0 GB\n",
      "Duration: 0:00:47.821429\n"
     ]
    }
   ],
   "source": [
    "start_time = datetime.now()\n",
    "df.info(memory_usage = \"deep\")\n",
    "end_time = datetime.now()\n",
    "print('Duration: {}'.format(end_time - start_time))"
   ]
  },
  {
   "cell_type": "code",
   "execution_count": 6,
   "id": "5049cd2d-65dc-4692-a003-0bbf2a23800a",
   "metadata": {},
   "outputs": [
    {
     "name": "stdout",
     "output_type": "stream",
     "text": [
      "Duration: 0:00:03.745081\n"
     ]
    }
   ],
   "source": [
    "\n",
    "start_time = datetime.now()\n",
    "df.groupby('County')['Price'].sum()\n",
    "end_time = datetime.now()\n",
    "print('Duration: {}'.format(end_time - start_time))"
   ]
  },
  {
   "cell_type": "code",
   "execution_count": 14,
   "id": "663c40f5-c96a-4f41-9652-018555820013",
   "metadata": {},
   "outputs": [],
   "source": [
    "del df"
   ]
  },
  {
   "cell_type": "markdown",
   "id": "f6b5cde6-7989-4558-beca-664ace5a6d35",
   "metadata": {},
   "source": [
    "# Step1 \n",
    "\n",
    "Loading files by changing default datatypes of the file to reduce the size.\n"
   ]
  },
  {
   "cell_type": "code",
   "execution_count": 15,
   "id": "cefbb9fd-f966-42d7-b644-9a4d99857c49",
   "metadata": {},
   "outputs": [],
   "source": [
    "new_dtypes = {\n",
    "    \"Transaction unique identifier\": \"category\",\n",
    "    \"Price\": \"int32\",\n",
    "    \"Property Type\": \"category\",\n",
    "    \"Old/New\": \"category\",\n",
    "    \"Duration\": \"category\",\n",
    "    \"Town/City\": \"category\",\n",
    "    \"District\": \"category\",\n",
    "    \"Country\": \"category\",\n",
    "    \"County\": \"category\",\n",
    "    \"PPDCategory Type\": \"category\",\n",
    "    \"Record Status - monthly file only\": \"category\"\n",
    "}"
   ]
  },
  {
   "cell_type": "code",
   "execution_count": 16,
   "id": "1cea54ef-485d-442b-b719-4ea51f90271c",
   "metadata": {},
   "outputs": [
    {
     "name": "stdout",
     "output_type": "stream",
     "text": [
      "Duration: 0:03:14.108715\n"
     ]
    }
   ],
   "source": [
    "start_time = datetime.now()\n",
    "df1= pd.read_csv('price_paid_records.csv', dtype = new_dtypes)\n",
    "end_time = datetime.now()\n",
    "print('Duration: {}'.format(end_time - start_time))"
   ]
  },
  {
   "cell_type": "code",
   "execution_count": 17,
   "id": "fd463784-b8d4-4147-8401-810a5609397a",
   "metadata": {},
   "outputs": [
    {
     "name": "stdout",
     "output_type": "stream",
     "text": [
      "<class 'pandas.core.frame.DataFrame'>\n",
      "RangeIndex: 22489348 entries, 0 to 22489347\n",
      "Data columns (total 11 columns):\n",
      " #   Column                             Dtype   \n",
      "---  ------                             -----   \n",
      " 0   Transaction unique identifier      category\n",
      " 1   Price                              int32   \n",
      " 2   Date of Transfer                   object  \n",
      " 3   Property Type                      category\n",
      " 4   Old/New                            category\n",
      " 5   Duration                           category\n",
      " 6   Town/City                          category\n",
      " 7   District                           category\n",
      " 8   County                             category\n",
      " 9   PPDCategory Type                   category\n",
      " 10  Record Status - monthly file only  category\n",
      "dtypes: category(9), int32(1), object(1)\n",
      "memory usage: 1.2+ GB\n",
      "Duration: 0:00:22.577813\n"
     ]
    }
   ],
   "source": [
    "start_time = datetime.now()\n",
    "df1.info()\n",
    "end_time = datetime.now()\n",
    "print('Duration: {}'.format(end_time - start_time))"
   ]
  },
  {
   "cell_type": "code",
   "execution_count": 18,
   "id": "a1a103cd-0c1b-4809-b802-b4a06989ef0d",
   "metadata": {},
   "outputs": [
    {
     "name": "stdout",
     "output_type": "stream",
     "text": [
      "<class 'pandas.core.frame.DataFrame'>\n",
      "RangeIndex: 22489348 entries, 0 to 22489347\n",
      "Data columns (total 11 columns):\n",
      " #   Column                             Dtype   \n",
      "---  ------                             -----   \n",
      " 0   Transaction unique identifier      category\n",
      " 1   Price                              int32   \n",
      " 2   Date of Transfer                   object  \n",
      " 3   Property Type                      category\n",
      " 4   Old/New                            category\n",
      " 5   Duration                           category\n",
      " 6   Town/City                          category\n",
      " 7   District                           category\n",
      " 8   County                             category\n",
      " 9   PPDCategory Type                   category\n",
      " 10  Record Status - monthly file only  category\n",
      "dtypes: category(9), int32(1), object(1)\n",
      "memory usage: 4.4 GB\n",
      "Duration: 0:00:11.876189\n"
     ]
    }
   ],
   "source": [
    "start_time = datetime.now()\n",
    "df1.info(memory_usage = \"deep\")\n",
    "end_time = datetime.now()\n",
    "print('Duration: {}'.format(end_time - start_time))"
   ]
  },
  {
   "cell_type": "code",
   "execution_count": 19,
   "id": "7419e920-6c45-4a87-8fc7-33d017d3dc88",
   "metadata": {},
   "outputs": [
    {
     "name": "stdout",
     "output_type": "stream",
     "text": [
      "Duration: 0:00:00.541125\n"
     ]
    }
   ],
   "source": [
    "\n",
    "start_time = datetime.now()\n",
    "df1.groupby('County')['Price'].sum()\n",
    "end_time = datetime.now()\n",
    "print('Duration: {}'.format(end_time - start_time))"
   ]
  },
  {
   "cell_type": "code",
   "execution_count": 24,
   "id": "6c041938-50b8-49cb-ba25-18a3ca416ed3",
   "metadata": {},
   "outputs": [],
   "source": [
    "del df1"
   ]
  },
  {
   "cell_type": "markdown",
   "id": "27e7affc-7b3c-4a84-be4b-274a71f2b3dd",
   "metadata": {},
   "source": [
    "#### Memory usage has reduced from 16 GB to 4.4 GB but data load time has increased"
   ]
  },
  {
   "cell_type": "markdown",
   "id": "23d498fb-8ad3-4f13-818e-dd357b36f4bb",
   "metadata": {},
   "source": [
    "# Step2 \n",
    "\n",
    "Loading files in chunks\n"
   ]
  },
  {
   "cell_type": "code",
   "execution_count": 20,
   "id": "2035075d-381d-4cc3-b428-6ce7f351fd4a",
   "metadata": {},
   "outputs": [
    {
     "name": "stdout",
     "output_type": "stream",
     "text": [
      "Duration: 0:00:00.008996\n"
     ]
    }
   ],
   "source": [
    "start_time = datetime.now()\n",
    "data_chunk=pd.read_csv('price_paid_records.csv',chunksize=100000)\n",
    "data_chunk\n",
    "end_time = datetime.now()\n",
    "print('Duration: {}'.format(end_time - start_time))"
   ]
  },
  {
   "cell_type": "code",
   "execution_count": 21,
   "id": "374b91a2-138d-426d-8a77-d48ceac80c59",
   "metadata": {},
   "outputs": [
    {
     "name": "stdout",
     "output_type": "stream",
     "text": [
      "<class 'pandas.core.frame.DataFrame'>\n",
      "RangeIndex: 22489348 entries, 0 to 22489347\n",
      "Data columns (total 11 columns):\n",
      " #   Column                             Dtype \n",
      "---  ------                             ----- \n",
      " 0   Transaction unique identifier      object\n",
      " 1   Price                              int64 \n",
      " 2   Date of Transfer                   object\n",
      " 3   Property Type                      object\n",
      " 4   Old/New                            object\n",
      " 5   Duration                           object\n",
      " 6   Town/City                          object\n",
      " 7   District                           object\n",
      " 8   County                             object\n",
      " 9   PPDCategory Type                   object\n",
      " 10  Record Status - monthly file only  object\n",
      "dtypes: int64(1), object(10)\n",
      "memory usage: 1.8+ GB\n",
      "Duration: 0:01:39.586721\n"
     ]
    }
   ],
   "source": [
    "start_time = datetime.now()\n",
    "\n",
    "#storing the chunks after iterating from chunk object\n",
    "chunk_data=[chunk for chunk in data_chunk]\n",
    "\n",
    "#concatnating dataframes to make it a complete dataset\n",
    "df3=pd.concat(chunk_data)\n",
    "\n",
    "df3.info()\n",
    "end_time = datetime.now()\n",
    "print('Duration: {}'.format(end_time - start_time))"
   ]
  },
  {
   "cell_type": "code",
   "execution_count": 22,
   "id": "520d086b-0c0f-4758-99ec-27162b74e27e",
   "metadata": {},
   "outputs": [
    {
     "name": "stdout",
     "output_type": "stream",
     "text": [
      "<class 'pandas.core.frame.DataFrame'>\n",
      "RangeIndex: 22489348 entries, 0 to 22489347\n",
      "Data columns (total 11 columns):\n",
      " #   Column                             Dtype \n",
      "---  ------                             ----- \n",
      " 0   Transaction unique identifier      object\n",
      " 1   Price                              int64 \n",
      " 2   Date of Transfer                   object\n",
      " 3   Property Type                      object\n",
      " 4   Old/New                            object\n",
      " 5   Duration                           object\n",
      " 6   Town/City                          object\n",
      " 7   District                           object\n",
      " 8   County                             object\n",
      " 9   PPDCategory Type                   object\n",
      " 10  Record Status - monthly file only  object\n",
      "dtypes: int64(1), object(10)\n",
      "memory usage: 14.0 GB\n",
      "Duration: 0:00:52.221686\n"
     ]
    }
   ],
   "source": [
    "start_time = datetime.now()\n",
    "df3.info(memory_usage = \"deep\")\n",
    "end_time = datetime.now()\n",
    "print('Duration: {}'.format(end_time - start_time))"
   ]
  },
  {
   "cell_type": "code",
   "execution_count": 23,
   "id": "af692809-306e-4de1-987e-6150d19be434",
   "metadata": {},
   "outputs": [
    {
     "name": "stdout",
     "output_type": "stream",
     "text": [
      "Duration: 0:00:03.961684\n"
     ]
    }
   ],
   "source": [
    "start_time = datetime.now()\n",
    "df3.groupby('County')['Price'].sum()\n",
    "end_time = datetime.now()\n",
    "print('Duration: {}'.format(end_time - start_time))"
   ]
  },
  {
   "cell_type": "code",
   "execution_count": 25,
   "id": "69967427-ffe9-43ab-a1f8-f00f6024a15c",
   "metadata": {},
   "outputs": [],
   "source": [
    "del df3"
   ]
  },
  {
   "cell_type": "markdown",
   "id": "261f55f6-545e-4c2c-82c8-9790db0246fb",
   "metadata": {},
   "source": [
    "#### Memory usage remains the same 14 GB but we can proces the data in chunk\n",
    "\n",
    "##### This Approach  Not advisable for complete data set processing"
   ]
  },
  {
   "cell_type": "markdown",
   "id": "dc94180f-cb76-45e0-8873-a8059324264b",
   "metadata": {},
   "source": [
    "# Step 3 : Using DASK\n",
    "\n",
    "- Dask is a flexible library for parallel computing in Python .\n",
    "- Dask = Features of pandas + ( performance and scalability) .\n",
    "\n",
    "Use when -\n",
    "\n",
    "Manipulating large datasets, even when those datasets don’t fit in memory\n",
    "Accelerating long computations by using many cores\n",
    "Distributed computing on large datasets with standard Pandas operations like groupby, join, and time series computationsDask is a flexible library for parallel computing in Python .\n",
    "- Dask = Features of pandas + ( performance and scalability) .\n",
    "Use when -\n",
    "\n",
    "Manipulating large datasets, even when those datasets don’t fit in memory\n",
    "Accelerating long computations by using many cores\n",
    "Distributed computing on large datasets with standard Pandas operations like groupby, join, and time series computations\n"
   ]
  },
  {
   "cell_type": "code",
   "execution_count": 26,
   "id": "19210634-b882-4e4c-ac03-f4f2a6efaf46",
   "metadata": {},
   "outputs": [
    {
     "name": "stdout",
     "output_type": "stream",
     "text": [
      "Duration: 0:00:00.030816\n"
     ]
    }
   ],
   "source": [
    "import dask.dataframe as dd\n",
    "start_time = datetime.now()\n",
    "df4 = dd.read_csv('price_paid_records.csv')\n",
    "end_time = datetime.now()\n",
    "print('Duration: {}'.format(end_time - start_time))\n"
   ]
  },
  {
   "cell_type": "code",
   "execution_count": 27,
   "id": "603088d0-65ce-40d3-b541-6cef8d698cef",
   "metadata": {},
   "outputs": [
    {
     "name": "stdout",
     "output_type": "stream",
     "text": [
      "<class 'dask.dataframe.core.DataFrame'>\n",
      "Columns: 11 entries, Transaction unique identifier to Record Status - monthly file only\n",
      "dtypes: object(10), int64(1)Duration: 0:00:00.003483\n"
     ]
    }
   ],
   "source": [
    "start_time = datetime.now()\n",
    "df4.info()\n",
    "end_time = datetime.now()\n",
    "print('Duration: {}'.format(end_time - start_time))"
   ]
  },
  {
   "cell_type": "code",
   "execution_count": 30,
   "id": "f5e04b18-fc84-46a5-a115-4907bb3c31dc",
   "metadata": {},
   "outputs": [
    {
     "name": "stdout",
     "output_type": "stream",
     "text": [
      "<class 'dask.dataframe.core.DataFrame'>\n",
      "Columns: 11 entries, Transaction unique identifier to Record Status - monthly file only\n",
      "dtypes: object(10), int64(1)\n",
      "memory usage: 1.8 GB\n",
      "Duration: 0:01:03.665630\n"
     ]
    }
   ],
   "source": [
    "start_time = datetime.now()\n",
    "df4.info(memory_usage = \"deep\")\n",
    "end_time = datetime.now()\n",
    "print('Duration: {}'.format(end_time - start_time))"
   ]
  },
  {
   "cell_type": "code",
   "execution_count": 32,
   "id": "60cf98c2-c97d-4de7-8521-197192c451be",
   "metadata": {},
   "outputs": [
    {
     "name": "stdout",
     "output_type": "stream",
     "text": [
      "Duration: 0:00:00.016662\n"
     ]
    }
   ],
   "source": [
    "start_time = datetime.now()\n",
    "df4.groupby('County')['Price'].sum()\n",
    "end_time = datetime.now()\n",
    "print('Duration: {}'.format(end_time - start_time))"
   ]
  },
  {
   "cell_type": "code",
   "execution_count": 33,
   "id": "0bf271db-6d9f-4e2e-bce3-742908de73ce",
   "metadata": {},
   "outputs": [],
   "source": [
    "del df4"
   ]
  },
  {
   "cell_type": "markdown",
   "id": "af0410fd-0f59-4825-a5b1-fd6c8eefbd2b",
   "metadata": {},
   "source": [
    "#### Memory usage reduced to 1.8 GB  and load time is significant less"
   ]
  },
  {
   "cell_type": "markdown",
   "id": "8d89385e-06e8-4765-a05a-3fe84010e882",
   "metadata": {},
   "source": [
    "# Step  4 : Using Datatable\n",
    "Datatable is a python library for manipulating tabular data. It supports out-of-memory datasets, multi-threaded data processing, and flexible API.\n",
    "\n",
    "Similar to the R’s data.table\n",
    "It is a toolkit for performing big data (up to 100GB) operations on a single-node machine, at the maximum possible speed.Method 4 : Using Datatable\n",
    "Datatable is a python library for manipulating tabular data. It supports out-of-memory datasets, multi-threaded data processing, and flexible API.\n",
    "\n",
    "Similar to the R’s data.table\n",
    "It is a toolkit for performing big data (up to 100GB) operations on a single-node machine, at the maximum possible speed."
   ]
  },
  {
   "cell_type": "code",
   "execution_count": 36,
   "id": "2577e5bd-3679-41eb-bcdd-81294b5673f2",
   "metadata": {},
   "outputs": [],
   "source": [
    "# Install datatable\n",
    "# !pip install datatable"
   ]
  },
  {
   "cell_type": "code",
   "execution_count": 37,
   "id": "230257f2-af1e-4d5d-b27c-cc36ab2d97bd",
   "metadata": {},
   "outputs": [],
   "source": [
    "#import datatable as dt"
   ]
  },
  {
   "cell_type": "code",
   "execution_count": null,
   "id": "337eb36a-1ee9-4970-b8eb-10cdb6739640",
   "metadata": {},
   "outputs": [],
   "source": [
    "start_time = datetime.now()\n",
    "train = dt.fread(\"../input/uk-housing-prices-paid/price_paid_records.csv\")\n",
    "end_time = datetime.now()\n",
    "print('Duration: {}'.format(end_time - start_time))"
   ]
  },
  {
   "cell_type": "markdown",
   "id": "f6092a38-1ad5-47ae-862d-47e2ce810967",
   "metadata": {},
   "source": [
    "# Step 5 : Using CUDF\n",
    "cuDf is GPU equivalent to pandas . cuDF is a package within the RAPIDS ecosystem that allows data scientists to easily migrate their existing Pandas workflows from CPU to GPU, where computations can leverage the immense parallelization that GPUs providcuDf is GPU equivalent to pandas . cuDF is a package within the RAPIDS ecosystem that allows data scientists to easily migrate their existing Pandas workflows from CPU to GPU, where computations can leverage the immense parallelization that GPUs provid"
   ]
  },
  {
   "cell_type": "code",
   "execution_count": 43,
   "id": "1f102ce5-c28b-4d1b-9418-0d02c3ddfeee",
   "metadata": {},
   "outputs": [],
   "source": [
    "#!pip3 install cudf"
   ]
  },
  {
   "cell_type": "code",
   "execution_count": 44,
   "id": "f7f39000-388f-4a9e-afda-0ef77fbb7c5e",
   "metadata": {},
   "outputs": [],
   "source": [
    "# %%time\n",
    "# import cudf\n",
    "# df5 = cudf.read_csv('../input/uk-housing-prices-paid/price_paid_records.csv')"
   ]
  },
  {
   "cell_type": "code",
   "execution_count": null,
   "id": "b0c5575b-c79c-4b6e-b1d4-68408b8a3145",
   "metadata": {},
   "outputs": [],
   "source": [
    "# %%time\n",
    "# df5.info()"
   ]
  },
  {
   "cell_type": "markdown",
   "id": "c4ffe778-bb0b-49ff-8111-95bc9dc50871",
   "metadata": {},
   "source": [
    "# Step 6: Using Vaex"
   ]
  },
  {
   "cell_type": "code",
   "execution_count": 46,
   "id": "b91fc32a-5b39-48cc-a1bc-8579ae1dc698",
   "metadata": {},
   "outputs": [],
   "source": [
    "#!pip install vaex"
   ]
  },
  {
   "cell_type": "code",
   "execution_count": 47,
   "id": "31f8dfd8-45aa-445b-a4e2-fc9dd0a61a54",
   "metadata": {},
   "outputs": [],
   "source": [
    "import vaex"
   ]
  },
  {
   "cell_type": "code",
   "execution_count": 48,
   "id": "31f8102a-b08b-4650-858d-710a35f9b6c4",
   "metadata": {},
   "outputs": [
    {
     "name": "stdout",
     "output_type": "stream",
     "text": [
      "Duration: 0:01:42.370722\n"
     ]
    }
   ],
   "source": [
    "# Reading CSV file\n",
    "start_time = datetime.now()\n",
    "df6= pd.read_csv('price_paid_records.csv')\n",
    "end_time = datetime.now()\n",
    "print('Duration: {}'.format(end_time - start_time))"
   ]
  },
  {
   "cell_type": "code",
   "execution_count": 49,
   "id": "1d314868-45d1-4d81-9a2f-94ad4d2377c8",
   "metadata": {},
   "outputs": [
    {
     "name": "stdout",
     "output_type": "stream",
     "text": [
      "Duration: 0:00:42.601866\n"
     ]
    }
   ],
   "source": [
    "# convert csv file into hdf5 file format\n",
    "start_time = datetime.now()\n",
    "vaex_df = vaex.from_pandas(df6)\n",
    "end_time = datetime.now()\n",
    "print('Duration: {}'.format(end_time - start_time))"
   ]
  },
  {
   "cell_type": "code",
   "execution_count": 50,
   "id": "3f1e2dcf-4eb3-4a62-9390-1ff34745dc95",
   "metadata": {},
   "outputs": [
    {
     "data": {
      "text/plain": [
       "vaex.dataframe.DataFrameLocal"
      ]
     },
     "execution_count": 50,
     "metadata": {},
     "output_type": "execute_result"
    }
   ],
   "source": [
    "type(vaex_df)"
   ]
  },
  {
   "cell_type": "code",
   "execution_count": 51,
   "id": "e8df9f23-04a0-498f-8317-46ec318f936c",
   "metadata": {},
   "outputs": [
    {
     "name": "stdout",
     "output_type": "stream",
     "text": [
      "Duration: 0:01:53.664165\n"
     ]
    }
   ],
   "source": [
    "# convert csv file into hdf5 file format\n",
    "start_time = datetime.now()\n",
    "vaex_df.export_hdf5('large_data1.hdf5')\n",
    "end_time = datetime.now()\n",
    "print('Duration: {}'.format(end_time - start_time))"
   ]
  },
  {
   "cell_type": "code",
   "execution_count": 52,
   "id": "ed5e41d7-8679-430b-b019-a1a6f7ccb69d",
   "metadata": {},
   "outputs": [
    {
     "data": {
      "text/html": [
       "<pre style=\"white-space:pre;overflow-x:auto;line-height:normal;font-family:Menlo,'DejaVu Sans Mono',consolas,'Courier New',monospace\"><span style=\"color: #7fbfbf; text-decoration-color: #7fbfbf\">[10/28/23 07:34:10] </span><span style=\"color: #800000; text-decoration-color: #800000; font-weight: bold\">ERROR   </span> error opening <span style=\"color: #008000; text-decoration-color: #008000\">'large_data1.hdf5'</span>                                       <a href=\"file://C:\\Users\\Ravi0dubey\\AppData\\Local\\Programs\\Python\\Python310\\lib\\site-packages\\vaex\\__init__.py\" target=\"_blank\"><span style=\"color: #7f7f7f; text-decoration-color: #7f7f7f\">__init__.py</span></a><span style=\"color: #7f7f7f; text-decoration-color: #7f7f7f\">:</span><a href=\"file://C:\\Users\\Ravi0dubey\\AppData\\Local\\Programs\\Python\\Python310\\lib\\site-packages\\vaex\\__init__.py#269\" target=\"_blank\"><span style=\"color: #7f7f7f; text-decoration-color: #7f7f7f\">269</span></a>\n",
       "<span style=\"color: #7fbfbf; text-decoration-color: #7fbfbf\">                    </span>         Traceback <span style=\"font-weight: bold\">(</span>most recent call last<span style=\"font-weight: bold\">)</span>:                                     <span style=\"color: #7f7f7f; text-decoration-color: #7f7f7f\">               </span>\n",
       "<span style=\"color: #7fbfbf; text-decoration-color: #7fbfbf\">                    </span>           File                                                                 <span style=\"color: #7f7f7f; text-decoration-color: #7f7f7f\">               </span>\n",
       "<span style=\"color: #7fbfbf; text-decoration-color: #7fbfbf\">                    </span>         <span style=\"color: #008000; text-decoration-color: #008000\">\"C:\\Users\\Ravi0dubey\\AppData\\Local\\Programs\\Python\\Python310\\lib\\site-</span> <span style=\"color: #7f7f7f; text-decoration-color: #7f7f7f\">               </span>\n",
       "<span style=\"color: #7fbfbf; text-decoration-color: #7fbfbf\">                    </span>         <span style=\"color: #008000; text-decoration-color: #008000\">packages\\vaex\\__init__.py\"</span>, line <span style=\"color: #008080; text-decoration-color: #008080; font-weight: bold\">242</span>, in open                          <span style=\"color: #7f7f7f; text-decoration-color: #7f7f7f\">               </span>\n",
       "<span style=\"color: #7fbfbf; text-decoration-color: #7fbfbf\">                    </span>             ds = <span style=\"color: #800080; text-decoration-color: #800080; font-weight: bold\">vaex.dataset.open</span><span style=\"font-weight: bold\">(</span>path, <span style=\"color: #808000; text-decoration-color: #808000\">fs_options</span>=<span style=\"color: #800080; text-decoration-color: #800080\">fs_options</span>, <span style=\"color: #808000; text-decoration-color: #808000\">fs</span>=<span style=\"color: #800080; text-decoration-color: #800080\">fs</span>,         <span style=\"color: #7f7f7f; text-decoration-color: #7f7f7f\">               </span>\n",
       "<span style=\"color: #7fbfbf; text-decoration-color: #7fbfbf\">                    </span>         **kwargs<span style=\"font-weight: bold\">)</span>                                                              <span style=\"color: #7f7f7f; text-decoration-color: #7f7f7f\">               </span>\n",
       "<span style=\"color: #7fbfbf; text-decoration-color: #7fbfbf\">                    </span>           File                                                                 <span style=\"color: #7f7f7f; text-decoration-color: #7f7f7f\">               </span>\n",
       "<span style=\"color: #7fbfbf; text-decoration-color: #7fbfbf\">                    </span>         <span style=\"color: #008000; text-decoration-color: #008000\">\"C:\\Users\\Ravi0dubey\\AppData\\Local\\Programs\\Python\\Python310\\lib\\site-</span> <span style=\"color: #7f7f7f; text-decoration-color: #7f7f7f\">               </span>\n",
       "<span style=\"color: #7fbfbf; text-decoration-color: #7fbfbf\">                    </span>         <span style=\"color: #008000; text-decoration-color: #008000\">packages\\vaex\\dataset.py\"</span>, line <span style=\"color: #008080; text-decoration-color: #008080; font-weight: bold\">81</span>, in open                            <span style=\"color: #7f7f7f; text-decoration-color: #7f7f7f\">               </span>\n",
       "<span style=\"color: #7fbfbf; text-decoration-color: #7fbfbf\">                    </span>             return <span style=\"color: #800080; text-decoration-color: #800080; font-weight: bold\">opener.open</span><span style=\"font-weight: bold\">(</span>path, <span style=\"color: #808000; text-decoration-color: #808000\">fs_options</span>=<span style=\"color: #800080; text-decoration-color: #800080\">fs_options</span>, <span style=\"color: #808000; text-decoration-color: #808000\">fs</span>=<span style=\"color: #800080; text-decoration-color: #800080\">fs</span>, *args,      <span style=\"color: #7f7f7f; text-decoration-color: #7f7f7f\">               </span>\n",
       "<span style=\"color: #7fbfbf; text-decoration-color: #7fbfbf\">                    </span>         **kwargs<span style=\"font-weight: bold\">)</span>                                                              <span style=\"color: #7f7f7f; text-decoration-color: #7f7f7f\">               </span>\n",
       "<span style=\"color: #7fbfbf; text-decoration-color: #7fbfbf\">                    </span>           File                                                                 <span style=\"color: #7f7f7f; text-decoration-color: #7f7f7f\">               </span>\n",
       "<span style=\"color: #7fbfbf; text-decoration-color: #7fbfbf\">                    </span>         <span style=\"color: #008000; text-decoration-color: #008000\">\"C:\\Users\\Ravi0dubey\\AppData\\Local\\Programs\\Python\\Python310\\lib\\site-</span> <span style=\"color: #7f7f7f; text-decoration-color: #7f7f7f\">               </span>\n",
       "<span style=\"color: #7fbfbf; text-decoration-color: #7fbfbf\">                    </span>         <span style=\"color: #008000; text-decoration-color: #008000\">packages\\vaex\\dataset.py\"</span>, line <span style=\"color: #008080; text-decoration-color: #008080; font-weight: bold\">1457</span>, in open                          <span style=\"color: #7f7f7f; text-decoration-color: #7f7f7f\">               </span>\n",
       "<span style=\"color: #7fbfbf; text-decoration-color: #7fbfbf\">                    </span>             return <span style=\"color: #800080; text-decoration-color: #800080; font-weight: bold\">cls</span><span style=\"font-weight: bold\">(</span>path, *args, **kwargs<span style=\"font-weight: bold\">)</span>                                  <span style=\"color: #7f7f7f; text-decoration-color: #7f7f7f\">               </span>\n",
       "<span style=\"color: #7fbfbf; text-decoration-color: #7fbfbf\">                    </span>           File                                                                 <span style=\"color: #7f7f7f; text-decoration-color: #7f7f7f\">               </span>\n",
       "<span style=\"color: #7fbfbf; text-decoration-color: #7fbfbf\">                    </span>         <span style=\"color: #008000; text-decoration-color: #008000\">\"C:\\Users\\Ravi0dubey\\AppData\\Local\\Programs\\Python\\Python310\\lib\\site-</span> <span style=\"color: #7f7f7f; text-decoration-color: #7f7f7f\">               </span>\n",
       "<span style=\"color: #7fbfbf; text-decoration-color: #7fbfbf\">                    </span>         <span style=\"color: #008000; text-decoration-color: #008000\">packages\\vaex\\hdf5\\dataset.py\"</span>, line <span style=\"color: #008080; text-decoration-color: #008080; font-weight: bold\">71</span>, in __init__                   <span style=\"color: #7f7f7f; text-decoration-color: #7f7f7f\">               </span>\n",
       "<span style=\"color: #7fbfbf; text-decoration-color: #7fbfbf\">                    </span>             <span style=\"color: #800080; text-decoration-color: #800080; font-weight: bold\">self._load</span><span style=\"font-weight: bold\">()</span>                                                       <span style=\"color: #7f7f7f; text-decoration-color: #7f7f7f\">               </span>\n",
       "<span style=\"color: #7fbfbf; text-decoration-color: #7fbfbf\">                    </span>           File                                                                 <span style=\"color: #7f7f7f; text-decoration-color: #7f7f7f\">               </span>\n",
       "<span style=\"color: #7fbfbf; text-decoration-color: #7fbfbf\">                    </span>         <span style=\"color: #008000; text-decoration-color: #008000\">\"C:\\Users\\Ravi0dubey\\AppData\\Local\\Programs\\Python\\Python310\\lib\\site-</span> <span style=\"color: #7f7f7f; text-decoration-color: #7f7f7f\">               </span>\n",
       "<span style=\"color: #7fbfbf; text-decoration-color: #7fbfbf\">                    </span>         <span style=\"color: #008000; text-decoration-color: #008000\">packages\\vaex\\hdf5\\dataset.py\"</span>, line <span style=\"color: #008080; text-decoration-color: #008080; font-weight: bold\">197</span>, in _load                     <span style=\"color: #7f7f7f; text-decoration-color: #7f7f7f\">               </span>\n",
       "<span style=\"color: #7fbfbf; text-decoration-color: #7fbfbf\">                    </span>             <span style=\"color: #800080; text-decoration-color: #800080; font-weight: bold\">self._load_columns</span><span style=\"font-weight: bold\">(</span>self.h5file<span style=\"font-weight: bold\">[</span><span style=\"color: #008000; text-decoration-color: #008000\">\"/table\"</span><span style=\"font-weight: bold\">])</span>                          <span style=\"color: #7f7f7f; text-decoration-color: #7f7f7f\">               </span>\n",
       "<span style=\"color: #7fbfbf; text-decoration-color: #7fbfbf\">                    </span>           File                                                                 <span style=\"color: #7f7f7f; text-decoration-color: #7f7f7f\">               </span>\n",
       "<span style=\"color: #7fbfbf; text-decoration-color: #7fbfbf\">                    </span>         <span style=\"color: #008000; text-decoration-color: #008000\">\"C:\\Users\\Ravi0dubey\\AppData\\Local\\Programs\\Python\\Python310\\lib\\site-</span> <span style=\"color: #7f7f7f; text-decoration-color: #7f7f7f\">               </span>\n",
       "<span style=\"color: #7fbfbf; text-decoration-color: #7fbfbf\">                    </span>         <span style=\"color: #008000; text-decoration-color: #008000\">packages\\vaex\\hdf5\\dataset.py\"</span>, line <span style=\"color: #008080; text-decoration-color: #008080; font-weight: bold\">372</span>, in _load_columns             <span style=\"color: #7f7f7f; text-decoration-color: #7f7f7f\">               </span>\n",
       "<span style=\"color: #7fbfbf; text-decoration-color: #7fbfbf\">                    </span>             elif <span style=\"color: #800080; text-decoration-color: #800080; font-weight: bold\">hasattr</span><span style=\"font-weight: bold\">(</span>column<span style=\"font-weight: bold\">[</span><span style=\"color: #008000; text-decoration-color: #008000\">\"data\"</span><span style=\"font-weight: bold\">]</span>, <span style=\"color: #008000; text-decoration-color: #008000\">\"dtype\"</span><span style=\"font-weight: bold\">)</span>:                             <span style=\"color: #7f7f7f; text-decoration-color: #7f7f7f\">               </span>\n",
       "<span style=\"color: #7fbfbf; text-decoration-color: #7fbfbf\">                    </span>           File <span style=\"color: #008000; text-decoration-color: #008000\">\"h5py\\_objects.pyx\"</span>, line <span style=\"color: #008080; text-decoration-color: #008080; font-weight: bold\">54</span>, in                                <span style=\"color: #7f7f7f; text-decoration-color: #7f7f7f\">               </span>\n",
       "<span style=\"color: #7fbfbf; text-decoration-color: #7fbfbf\">                    </span>         h5py._objects.with_phil.wrapper                                        <span style=\"color: #7f7f7f; text-decoration-color: #7f7f7f\">               </span>\n",
       "<span style=\"color: #7fbfbf; text-decoration-color: #7fbfbf\">                    </span>           File <span style=\"color: #008000; text-decoration-color: #008000\">\"h5py\\_objects.pyx\"</span>, line <span style=\"color: #008080; text-decoration-color: #008080; font-weight: bold\">55</span>, in                                <span style=\"color: #7f7f7f; text-decoration-color: #7f7f7f\">               </span>\n",
       "<span style=\"color: #7fbfbf; text-decoration-color: #7fbfbf\">                    </span>         h5py._objects.with_phil.wrapper                                        <span style=\"color: #7f7f7f; text-decoration-color: #7f7f7f\">               </span>\n",
       "<span style=\"color: #7fbfbf; text-decoration-color: #7fbfbf\">                    </span>           File                                                                 <span style=\"color: #7f7f7f; text-decoration-color: #7f7f7f\">               </span>\n",
       "<span style=\"color: #7fbfbf; text-decoration-color: #7fbfbf\">                    </span>         <span style=\"color: #008000; text-decoration-color: #008000\">\"C:\\Users\\Ravi0dubey\\AppData\\Local\\Programs\\Python\\Python310\\lib\\site-</span> <span style=\"color: #7f7f7f; text-decoration-color: #7f7f7f\">               </span>\n",
       "<span style=\"color: #7fbfbf; text-decoration-color: #7fbfbf\">                    </span>         <span style=\"color: #008000; text-decoration-color: #008000\">packages\\h5py\\_hl\\group.py\"</span>, line <span style=\"color: #008080; text-decoration-color: #008080; font-weight: bold\">357</span>, in __getitem__                  <span style=\"color: #7f7f7f; text-decoration-color: #7f7f7f\">               </span>\n",
       "<span style=\"color: #7fbfbf; text-decoration-color: #7fbfbf\">                    </span>             oid = <span style=\"color: #800080; text-decoration-color: #800080; font-weight: bold\">h5o.open</span><span style=\"font-weight: bold\">(</span>self.id, <span style=\"color: #800080; text-decoration-color: #800080; font-weight: bold\">self._e</span><span style=\"font-weight: bold\">(</span>name<span style=\"font-weight: bold\">)</span>, <span style=\"color: #808000; text-decoration-color: #808000\">lapl</span>=<span style=\"color: #800080; text-decoration-color: #800080\">self</span>._lapl<span style=\"font-weight: bold\">)</span>            <span style=\"color: #7f7f7f; text-decoration-color: #7f7f7f\">               </span>\n",
       "<span style=\"color: #7fbfbf; text-decoration-color: #7fbfbf\">                    </span>           File <span style=\"color: #008000; text-decoration-color: #008000\">\"h5py\\_objects.pyx\"</span>, line <span style=\"color: #008080; text-decoration-color: #008080; font-weight: bold\">54</span>, in                                <span style=\"color: #7f7f7f; text-decoration-color: #7f7f7f\">               </span>\n",
       "<span style=\"color: #7fbfbf; text-decoration-color: #7fbfbf\">                    </span>         h5py._objects.with_phil.wrapper                                        <span style=\"color: #7f7f7f; text-decoration-color: #7f7f7f\">               </span>\n",
       "<span style=\"color: #7fbfbf; text-decoration-color: #7fbfbf\">                    </span>           File <span style=\"color: #008000; text-decoration-color: #008000\">\"h5py\\_objects.pyx\"</span>, line <span style=\"color: #008080; text-decoration-color: #008080; font-weight: bold\">55</span>, in                                <span style=\"color: #7f7f7f; text-decoration-color: #7f7f7f\">               </span>\n",
       "<span style=\"color: #7fbfbf; text-decoration-color: #7fbfbf\">                    </span>         h5py._objects.with_phil.wrapper                                        <span style=\"color: #7f7f7f; text-decoration-color: #7f7f7f\">               </span>\n",
       "<span style=\"color: #7fbfbf; text-decoration-color: #7fbfbf\">                    </span>           File <span style=\"color: #008000; text-decoration-color: #008000\">\"h5py\\h5o.pyx\"</span>, line <span style=\"color: #008080; text-decoration-color: #008080; font-weight: bold\">190</span>, in h5py.h5o.open                      <span style=\"color: #7f7f7f; text-decoration-color: #7f7f7f\">               </span>\n",
       "<span style=\"color: #7fbfbf; text-decoration-color: #7fbfbf\">                    </span>         KeyError: <span style=\"color: #008000; text-decoration-color: #008000\">\"Unable to open object (object 'data' doesn't exist)\"</span>        <span style=\"color: #7f7f7f; text-decoration-color: #7f7f7f\">               </span>\n",
       "</pre>\n"
      ],
      "text/plain": [
       "\u001b[2;36m[10/28/23 07:34:10]\u001b[0m\u001b[2;36m \u001b[0m\u001b[1;31mERROR   \u001b[0m error opening \u001b[32m'large_data1.hdf5'\u001b[0m                                       \u001b]8;id=519872;file://C:\\Users\\Ravi0dubey\\AppData\\Local\\Programs\\Python\\Python310\\lib\\site-packages\\vaex\\__init__.py\u001b\\\u001b[2m__init__.py\u001b[0m\u001b]8;;\u001b\\\u001b[2m:\u001b[0m\u001b]8;id=595898;file://C:\\Users\\Ravi0dubey\\AppData\\Local\\Programs\\Python\\Python310\\lib\\site-packages\\vaex\\__init__.py#269\u001b\\\u001b[2m269\u001b[0m\u001b]8;;\u001b\\\n",
       "\u001b[2;36m                    \u001b[0m         Traceback \u001b[1m(\u001b[0mmost recent call last\u001b[1m)\u001b[0m:                                     \u001b[2m               \u001b[0m\n",
       "\u001b[2;36m                    \u001b[0m           File                                                                 \u001b[2m               \u001b[0m\n",
       "\u001b[2;36m                    \u001b[0m         \u001b[32m\"C:\\Users\\Ravi0dubey\\AppData\\Local\\Programs\\Python\\Python310\\lib\\site-\u001b[0m \u001b[2m               \u001b[0m\n",
       "\u001b[2;36m                    \u001b[0m         \u001b[32mpackages\\vaex\\__init__.py\"\u001b[0m, line \u001b[1;36m242\u001b[0m, in open                          \u001b[2m               \u001b[0m\n",
       "\u001b[2;36m                    \u001b[0m             ds = \u001b[1;35mvaex.dataset.open\u001b[0m\u001b[1m(\u001b[0mpath, \u001b[33mfs_options\u001b[0m=\u001b[35mfs_options\u001b[0m, \u001b[33mfs\u001b[0m=\u001b[35mfs\u001b[0m,         \u001b[2m               \u001b[0m\n",
       "\u001b[2;36m                    \u001b[0m         **kwargs\u001b[1m)\u001b[0m                                                              \u001b[2m               \u001b[0m\n",
       "\u001b[2;36m                    \u001b[0m           File                                                                 \u001b[2m               \u001b[0m\n",
       "\u001b[2;36m                    \u001b[0m         \u001b[32m\"C:\\Users\\Ravi0dubey\\AppData\\Local\\Programs\\Python\\Python310\\lib\\site-\u001b[0m \u001b[2m               \u001b[0m\n",
       "\u001b[2;36m                    \u001b[0m         \u001b[32mpackages\\vaex\\dataset.py\"\u001b[0m, line \u001b[1;36m81\u001b[0m, in open                            \u001b[2m               \u001b[0m\n",
       "\u001b[2;36m                    \u001b[0m             return \u001b[1;35mopener.open\u001b[0m\u001b[1m(\u001b[0mpath, \u001b[33mfs_options\u001b[0m=\u001b[35mfs_options\u001b[0m, \u001b[33mfs\u001b[0m=\u001b[35mfs\u001b[0m, *args,      \u001b[2m               \u001b[0m\n",
       "\u001b[2;36m                    \u001b[0m         **kwargs\u001b[1m)\u001b[0m                                                              \u001b[2m               \u001b[0m\n",
       "\u001b[2;36m                    \u001b[0m           File                                                                 \u001b[2m               \u001b[0m\n",
       "\u001b[2;36m                    \u001b[0m         \u001b[32m\"C:\\Users\\Ravi0dubey\\AppData\\Local\\Programs\\Python\\Python310\\lib\\site-\u001b[0m \u001b[2m               \u001b[0m\n",
       "\u001b[2;36m                    \u001b[0m         \u001b[32mpackages\\vaex\\dataset.py\"\u001b[0m, line \u001b[1;36m1457\u001b[0m, in open                          \u001b[2m               \u001b[0m\n",
       "\u001b[2;36m                    \u001b[0m             return \u001b[1;35mcls\u001b[0m\u001b[1m(\u001b[0mpath, *args, **kwargs\u001b[1m)\u001b[0m                                  \u001b[2m               \u001b[0m\n",
       "\u001b[2;36m                    \u001b[0m           File                                                                 \u001b[2m               \u001b[0m\n",
       "\u001b[2;36m                    \u001b[0m         \u001b[32m\"C:\\Users\\Ravi0dubey\\AppData\\Local\\Programs\\Python\\Python310\\lib\\site-\u001b[0m \u001b[2m               \u001b[0m\n",
       "\u001b[2;36m                    \u001b[0m         \u001b[32mpackages\\vaex\\hdf5\\dataset.py\"\u001b[0m, line \u001b[1;36m71\u001b[0m, in __init__                   \u001b[2m               \u001b[0m\n",
       "\u001b[2;36m                    \u001b[0m             \u001b[1;35mself._load\u001b[0m\u001b[1m(\u001b[0m\u001b[1m)\u001b[0m                                                       \u001b[2m               \u001b[0m\n",
       "\u001b[2;36m                    \u001b[0m           File                                                                 \u001b[2m               \u001b[0m\n",
       "\u001b[2;36m                    \u001b[0m         \u001b[32m\"C:\\Users\\Ravi0dubey\\AppData\\Local\\Programs\\Python\\Python310\\lib\\site-\u001b[0m \u001b[2m               \u001b[0m\n",
       "\u001b[2;36m                    \u001b[0m         \u001b[32mpackages\\vaex\\hdf5\\dataset.py\"\u001b[0m, line \u001b[1;36m197\u001b[0m, in _load                     \u001b[2m               \u001b[0m\n",
       "\u001b[2;36m                    \u001b[0m             \u001b[1;35mself._load_columns\u001b[0m\u001b[1m(\u001b[0mself.h5file\u001b[1m[\u001b[0m\u001b[32m\"/table\"\u001b[0m\u001b[1m]\u001b[0m\u001b[1m)\u001b[0m                          \u001b[2m               \u001b[0m\n",
       "\u001b[2;36m                    \u001b[0m           File                                                                 \u001b[2m               \u001b[0m\n",
       "\u001b[2;36m                    \u001b[0m         \u001b[32m\"C:\\Users\\Ravi0dubey\\AppData\\Local\\Programs\\Python\\Python310\\lib\\site-\u001b[0m \u001b[2m               \u001b[0m\n",
       "\u001b[2;36m                    \u001b[0m         \u001b[32mpackages\\vaex\\hdf5\\dataset.py\"\u001b[0m, line \u001b[1;36m372\u001b[0m, in _load_columns             \u001b[2m               \u001b[0m\n",
       "\u001b[2;36m                    \u001b[0m             elif \u001b[1;35mhasattr\u001b[0m\u001b[1m(\u001b[0mcolumn\u001b[1m[\u001b[0m\u001b[32m\"data\"\u001b[0m\u001b[1m]\u001b[0m, \u001b[32m\"dtype\"\u001b[0m\u001b[1m)\u001b[0m:                             \u001b[2m               \u001b[0m\n",
       "\u001b[2;36m                    \u001b[0m           File \u001b[32m\"h5py\\_objects.pyx\"\u001b[0m, line \u001b[1;36m54\u001b[0m, in                                \u001b[2m               \u001b[0m\n",
       "\u001b[2;36m                    \u001b[0m         h5py._objects.with_phil.wrapper                                        \u001b[2m               \u001b[0m\n",
       "\u001b[2;36m                    \u001b[0m           File \u001b[32m\"h5py\\_objects.pyx\"\u001b[0m, line \u001b[1;36m55\u001b[0m, in                                \u001b[2m               \u001b[0m\n",
       "\u001b[2;36m                    \u001b[0m         h5py._objects.with_phil.wrapper                                        \u001b[2m               \u001b[0m\n",
       "\u001b[2;36m                    \u001b[0m           File                                                                 \u001b[2m               \u001b[0m\n",
       "\u001b[2;36m                    \u001b[0m         \u001b[32m\"C:\\Users\\Ravi0dubey\\AppData\\Local\\Programs\\Python\\Python310\\lib\\site-\u001b[0m \u001b[2m               \u001b[0m\n",
       "\u001b[2;36m                    \u001b[0m         \u001b[32mpackages\\h5py\\_hl\\group.py\"\u001b[0m, line \u001b[1;36m357\u001b[0m, in __getitem__                  \u001b[2m               \u001b[0m\n",
       "\u001b[2;36m                    \u001b[0m             oid = \u001b[1;35mh5o.open\u001b[0m\u001b[1m(\u001b[0mself.id, \u001b[1;35mself._e\u001b[0m\u001b[1m(\u001b[0mname\u001b[1m)\u001b[0m, \u001b[33mlapl\u001b[0m=\u001b[35mself\u001b[0m._lapl\u001b[1m)\u001b[0m            \u001b[2m               \u001b[0m\n",
       "\u001b[2;36m                    \u001b[0m           File \u001b[32m\"h5py\\_objects.pyx\"\u001b[0m, line \u001b[1;36m54\u001b[0m, in                                \u001b[2m               \u001b[0m\n",
       "\u001b[2;36m                    \u001b[0m         h5py._objects.with_phil.wrapper                                        \u001b[2m               \u001b[0m\n",
       "\u001b[2;36m                    \u001b[0m           File \u001b[32m\"h5py\\_objects.pyx\"\u001b[0m, line \u001b[1;36m55\u001b[0m, in                                \u001b[2m               \u001b[0m\n",
       "\u001b[2;36m                    \u001b[0m         h5py._objects.with_phil.wrapper                                        \u001b[2m               \u001b[0m\n",
       "\u001b[2;36m                    \u001b[0m           File \u001b[32m\"h5py\\h5o.pyx\"\u001b[0m, line \u001b[1;36m190\u001b[0m, in h5py.h5o.open                      \u001b[2m               \u001b[0m\n",
       "\u001b[2;36m                    \u001b[0m         KeyError: \u001b[32m\"Unable to open object \u001b[0m\u001b[32m(\u001b[0m\u001b[32mobject 'data' doesn't exist\u001b[0m\u001b[32m)\u001b[0m\u001b[32m\"\u001b[0m        \u001b[2m               \u001b[0m\n"
      ]
     },
     "metadata": {},
     "output_type": "display_data"
    },
    {
     "ename": "KeyError",
     "evalue": "\"Unable to open object (object 'data' doesn't exist)\"",
     "output_type": "error",
     "traceback": [
      "\u001b[1;31m---------------------------------------------------------------------------\u001b[0m",
      "\u001b[1;31mKeyError\u001b[0m                                  Traceback (most recent call last)",
      "Cell \u001b[1;32mIn[52], line 2\u001b[0m\n\u001b[0;32m      1\u001b[0m start_time \u001b[38;5;241m=\u001b[39m datetime\u001b[38;5;241m.\u001b[39mnow()\n\u001b[1;32m----> 2\u001b[0m vaex_df1 \u001b[38;5;241m=\u001b[39m \u001b[43mvaex\u001b[49m\u001b[38;5;241;43m.\u001b[39;49m\u001b[43mopen\u001b[49m\u001b[43m(\u001b[49m\u001b[38;5;124;43m'\u001b[39;49m\u001b[38;5;124;43mlarge_data1.hdf5\u001b[39;49m\u001b[38;5;124;43m'\u001b[39;49m\u001b[43m)\u001b[49m\n\u001b[0;32m      3\u001b[0m end_time \u001b[38;5;241m=\u001b[39m datetime\u001b[38;5;241m.\u001b[39mnow()\n\u001b[0;32m      4\u001b[0m \u001b[38;5;28mprint\u001b[39m(\u001b[38;5;124m'\u001b[39m\u001b[38;5;124mDuration: \u001b[39m\u001b[38;5;132;01m{}\u001b[39;00m\u001b[38;5;124m'\u001b[39m\u001b[38;5;241m.\u001b[39mformat(end_time \u001b[38;5;241m-\u001b[39m start_time))\n",
      "File \u001b[1;32m~\\AppData\\Local\\Programs\\Python\\Python310\\lib\\site-packages\\vaex\\__init__.py:242\u001b[0m, in \u001b[0;36mopen\u001b[1;34m(path, convert, progress, shuffle, fs_options, fs, *args, **kwargs)\u001b[0m\n\u001b[0;32m    240\u001b[0m     ds \u001b[38;5;241m=\u001b[39m vaex\u001b[38;5;241m.\u001b[39mdataset\u001b[38;5;241m.\u001b[39mopen(path_output, fs_options\u001b[38;5;241m=\u001b[39mfs_options, fs\u001b[38;5;241m=\u001b[39mfs)\n\u001b[0;32m    241\u001b[0m \u001b[38;5;28;01melse\u001b[39;00m:\n\u001b[1;32m--> 242\u001b[0m     ds \u001b[38;5;241m=\u001b[39m vaex\u001b[38;5;241m.\u001b[39mdataset\u001b[38;5;241m.\u001b[39mopen(path, fs_options\u001b[38;5;241m=\u001b[39mfs_options, fs\u001b[38;5;241m=\u001b[39mfs, \u001b[38;5;241m*\u001b[39m\u001b[38;5;241m*\u001b[39mkwargs)\n\u001b[0;32m    243\u001b[0m df \u001b[38;5;241m=\u001b[39m vaex\u001b[38;5;241m.\u001b[39mfrom_dataset(ds)\n\u001b[0;32m    244\u001b[0m \u001b[38;5;28;01mif\u001b[39;00m df \u001b[38;5;129;01mis\u001b[39;00m \u001b[38;5;28;01mNone\u001b[39;00m:\n",
      "File \u001b[1;32m~\\AppData\\Local\\Programs\\Python\\Python310\\lib\\site-packages\\vaex\\dataset.py:81\u001b[0m, in \u001b[0;36mopen\u001b[1;34m(path, fs_options, fs, *args, **kwargs)\u001b[0m\n\u001b[0;32m     79\u001b[0m     \u001b[38;5;28;01mif\u001b[39;00m opener\u001b[38;5;241m.\u001b[39mquick_test(path, fs_options\u001b[38;5;241m=\u001b[39mfs_options, fs\u001b[38;5;241m=\u001b[39mfs):\n\u001b[0;32m     80\u001b[0m         \u001b[38;5;28;01mif\u001b[39;00m opener\u001b[38;5;241m.\u001b[39mcan_open(path, fs_options\u001b[38;5;241m=\u001b[39mfs_options, fs\u001b[38;5;241m=\u001b[39mfs, \u001b[38;5;241m*\u001b[39margs, \u001b[38;5;241m*\u001b[39m\u001b[38;5;241m*\u001b[39mkwargs):\n\u001b[1;32m---> 81\u001b[0m             \u001b[38;5;28;01mreturn\u001b[39;00m opener\u001b[38;5;241m.\u001b[39mopen(path, fs_options\u001b[38;5;241m=\u001b[39mfs_options, fs\u001b[38;5;241m=\u001b[39mfs, \u001b[38;5;241m*\u001b[39margs, \u001b[38;5;241m*\u001b[39m\u001b[38;5;241m*\u001b[39mkwargs)\n\u001b[0;32m     83\u001b[0m \u001b[38;5;66;03m# otherwise try all openers\u001b[39;00m\n\u001b[0;32m     84\u001b[0m \u001b[38;5;28;01mfor\u001b[39;00m opener \u001b[38;5;129;01min\u001b[39;00m opener_classes:\n",
      "File \u001b[1;32m~\\AppData\\Local\\Programs\\Python\\Python310\\lib\\site-packages\\vaex\\dataset.py:1457\u001b[0m, in \u001b[0;36mDatasetFile.open\u001b[1;34m(cls, path, *args, **kwargs)\u001b[0m\n\u001b[0;32m   1455\u001b[0m \u001b[38;5;129m@classmethod\u001b[39m\n\u001b[0;32m   1456\u001b[0m \u001b[38;5;28;01mdef\u001b[39;00m \u001b[38;5;21mopen\u001b[39m(\u001b[38;5;28mcls\u001b[39m, path, \u001b[38;5;241m*\u001b[39margs, \u001b[38;5;241m*\u001b[39m\u001b[38;5;241m*\u001b[39mkwargs):\n\u001b[1;32m-> 1457\u001b[0m     \u001b[38;5;28;01mreturn\u001b[39;00m \u001b[38;5;28mcls\u001b[39m(path, \u001b[38;5;241m*\u001b[39margs, \u001b[38;5;241m*\u001b[39m\u001b[38;5;241m*\u001b[39mkwargs)\n",
      "File \u001b[1;32m~\\AppData\\Local\\Programs\\Python\\Python310\\lib\\site-packages\\vaex\\hdf5\\dataset.py:71\u001b[0m, in \u001b[0;36mHdf5MemoryMapped.__init__\u001b[1;34m(self, path, write, fs_options, fs, nommap, group, _fingerprint)\u001b[0m\n\u001b[0;32m     69\u001b[0m \u001b[38;5;28mself\u001b[39m\u001b[38;5;241m.\u001b[39mgroup \u001b[38;5;241m=\u001b[39m group\n\u001b[0;32m     70\u001b[0m \u001b[38;5;28mself\u001b[39m\u001b[38;5;241m.\u001b[39m_version \u001b[38;5;241m=\u001b[39m \u001b[38;5;241m1\u001b[39m\n\u001b[1;32m---> 71\u001b[0m \u001b[38;5;28;43mself\u001b[39;49m\u001b[38;5;241;43m.\u001b[39;49m\u001b[43m_load\u001b[49m\u001b[43m(\u001b[49m\u001b[43m)\u001b[49m\n\u001b[0;32m     72\u001b[0m \u001b[38;5;28;01mif\u001b[39;00m \u001b[38;5;129;01mnot\u001b[39;00m write:  \u001b[38;5;66;03m# in write mode, call freeze yourself, so the hashes are computed\u001b[39;00m\n\u001b[0;32m     73\u001b[0m     \u001b[38;5;28mself\u001b[39m\u001b[38;5;241m.\u001b[39m_freeze()\n",
      "File \u001b[1;32m~\\AppData\\Local\\Programs\\Python\\Python310\\lib\\site-packages\\vaex\\hdf5\\dataset.py:197\u001b[0m, in \u001b[0;36mHdf5MemoryMapped._load\u001b[1;34m(self)\u001b[0m\n\u001b[0;32m    195\u001b[0m \u001b[38;5;28;01mif\u001b[39;00m \u001b[38;5;124m\"\u001b[39m\u001b[38;5;124mtable\u001b[39m\u001b[38;5;124m\"\u001b[39m \u001b[38;5;129;01min\u001b[39;00m \u001b[38;5;28mself\u001b[39m\u001b[38;5;241m.\u001b[39mh5file:\n\u001b[0;32m    196\u001b[0m     \u001b[38;5;28mself\u001b[39m\u001b[38;5;241m.\u001b[39m_version \u001b[38;5;241m=\u001b[39m \u001b[38;5;241m2\u001b[39m\n\u001b[1;32m--> 197\u001b[0m     \u001b[38;5;28;43mself\u001b[39;49m\u001b[38;5;241;43m.\u001b[39;49m\u001b[43m_load_columns\u001b[49m\u001b[43m(\u001b[49m\u001b[38;5;28;43mself\u001b[39;49m\u001b[38;5;241;43m.\u001b[39;49m\u001b[43mh5file\u001b[49m\u001b[43m[\u001b[49m\u001b[38;5;124;43m\"\u001b[39;49m\u001b[38;5;124;43m/table\u001b[39;49m\u001b[38;5;124;43m\"\u001b[39;49m\u001b[43m]\u001b[49m\u001b[43m)\u001b[49m\n\u001b[0;32m    198\u001b[0m     \u001b[38;5;28mself\u001b[39m\u001b[38;5;241m.\u001b[39mgroup \u001b[38;5;241m=\u001b[39m \u001b[38;5;124m\"\u001b[39m\u001b[38;5;124m/table\u001b[39m\u001b[38;5;124m\"\u001b[39m\n\u001b[0;32m    199\u001b[0m root_datasets \u001b[38;5;241m=\u001b[39m [dataset \u001b[38;5;28;01mfor\u001b[39;00m name, dataset \u001b[38;5;129;01min\u001b[39;00m \u001b[38;5;28mself\u001b[39m\u001b[38;5;241m.\u001b[39mh5file\u001b[38;5;241m.\u001b[39mitems() \u001b[38;5;28;01mif\u001b[39;00m \u001b[38;5;28misinstance\u001b[39m(dataset, h5py\u001b[38;5;241m.\u001b[39mDataset)]\n",
      "File \u001b[1;32m~\\AppData\\Local\\Programs\\Python\\Python310\\lib\\site-packages\\vaex\\hdf5\\dataset.py:372\u001b[0m, in \u001b[0;36mHdf5MemoryMapped._load_columns\u001b[1;34m(self, h5data, first)\u001b[0m\n\u001b[0;32m    370\u001b[0m     column \u001b[38;5;241m=\u001b[39m \u001b[38;5;28mself\u001b[39m\u001b[38;5;241m.\u001b[39m_map_hdf5_array(column)\n\u001b[0;32m    371\u001b[0m     \u001b[38;5;28mself\u001b[39m\u001b[38;5;241m.\u001b[39madd_column(column_name, column)\n\u001b[1;32m--> 372\u001b[0m \u001b[38;5;28;01melif\u001b[39;00m \u001b[38;5;28mhasattr\u001b[39m(\u001b[43mcolumn\u001b[49m\u001b[43m[\u001b[49m\u001b[38;5;124;43m\"\u001b[39;49m\u001b[38;5;124;43mdata\u001b[39;49m\u001b[38;5;124;43m\"\u001b[39;49m\u001b[43m]\u001b[49m, \u001b[38;5;124m\"\u001b[39m\u001b[38;5;124mdtype\u001b[39m\u001b[38;5;124m\"\u001b[39m):\n\u001b[0;32m    373\u001b[0m     column \u001b[38;5;241m=\u001b[39m \u001b[38;5;28mself\u001b[39m\u001b[38;5;241m.\u001b[39m_map_column(column)\n\u001b[0;32m    374\u001b[0m     \u001b[38;5;28mself\u001b[39m\u001b[38;5;241m.\u001b[39madd_column(column_name, column)\n",
      "File \u001b[1;32mh5py\\_objects.pyx:54\u001b[0m, in \u001b[0;36mh5py._objects.with_phil.wrapper\u001b[1;34m()\u001b[0m\n",
      "File \u001b[1;32mh5py\\_objects.pyx:55\u001b[0m, in \u001b[0;36mh5py._objects.with_phil.wrapper\u001b[1;34m()\u001b[0m\n",
      "File \u001b[1;32m~\\AppData\\Local\\Programs\\Python\\Python310\\lib\\site-packages\\h5py\\_hl\\group.py:357\u001b[0m, in \u001b[0;36mGroup.__getitem__\u001b[1;34m(self, name)\u001b[0m\n\u001b[0;32m    355\u001b[0m         \u001b[38;5;28;01mraise\u001b[39;00m \u001b[38;5;167;01mValueError\u001b[39;00m(\u001b[38;5;124m\"\u001b[39m\u001b[38;5;124mInvalid HDF5 object reference\u001b[39m\u001b[38;5;124m\"\u001b[39m)\n\u001b[0;32m    356\u001b[0m \u001b[38;5;28;01melif\u001b[39;00m \u001b[38;5;28misinstance\u001b[39m(name, (\u001b[38;5;28mbytes\u001b[39m, \u001b[38;5;28mstr\u001b[39m)):\n\u001b[1;32m--> 357\u001b[0m     oid \u001b[38;5;241m=\u001b[39m \u001b[43mh5o\u001b[49m\u001b[38;5;241;43m.\u001b[39;49m\u001b[43mopen\u001b[49m\u001b[43m(\u001b[49m\u001b[38;5;28;43mself\u001b[39;49m\u001b[38;5;241;43m.\u001b[39;49m\u001b[43mid\u001b[49m\u001b[43m,\u001b[49m\u001b[43m \u001b[49m\u001b[38;5;28;43mself\u001b[39;49m\u001b[38;5;241;43m.\u001b[39;49m\u001b[43m_e\u001b[49m\u001b[43m(\u001b[49m\u001b[43mname\u001b[49m\u001b[43m)\u001b[49m\u001b[43m,\u001b[49m\u001b[43m \u001b[49m\u001b[43mlapl\u001b[49m\u001b[38;5;241;43m=\u001b[39;49m\u001b[38;5;28;43mself\u001b[39;49m\u001b[38;5;241;43m.\u001b[39;49m\u001b[43m_lapl\u001b[49m\u001b[43m)\u001b[49m\n\u001b[0;32m    358\u001b[0m \u001b[38;5;28;01melse\u001b[39;00m:\n\u001b[0;32m    359\u001b[0m     \u001b[38;5;28;01mraise\u001b[39;00m \u001b[38;5;167;01mTypeError\u001b[39;00m(\u001b[38;5;124m\"\u001b[39m\u001b[38;5;124mAccessing a group is done with bytes or str, \u001b[39m\u001b[38;5;124m\"\u001b[39m\n\u001b[0;32m    360\u001b[0m                     \u001b[38;5;124m\"\u001b[39m\u001b[38;5;124mnot \u001b[39m\u001b[38;5;132;01m{}\u001b[39;00m\u001b[38;5;124m\"\u001b[39m\u001b[38;5;241m.\u001b[39mformat(\u001b[38;5;28mtype\u001b[39m(name)))\n",
      "File \u001b[1;32mh5py\\_objects.pyx:54\u001b[0m, in \u001b[0;36mh5py._objects.with_phil.wrapper\u001b[1;34m()\u001b[0m\n",
      "File \u001b[1;32mh5py\\_objects.pyx:55\u001b[0m, in \u001b[0;36mh5py._objects.with_phil.wrapper\u001b[1;34m()\u001b[0m\n",
      "File \u001b[1;32mh5py\\h5o.pyx:190\u001b[0m, in \u001b[0;36mh5py.h5o.open\u001b[1;34m()\u001b[0m\n",
      "\u001b[1;31mKeyError\u001b[0m: \"Unable to open object (object 'data' doesn't exist)\""
     ]
    }
   ],
   "source": [
    "start_time = datetime.now()\n",
    "vaex_df1 = vaex.open('large_data1.hdf5')\n",
    "end_time = datetime.now()\n",
    "print('Duration: {}'.format(end_time - start_time))"
   ]
  },
  {
   "cell_type": "code",
   "execution_count": 53,
   "id": "8fe644c1-324c-4a71-aec8-eb5e7652ee53",
   "metadata": {},
   "outputs": [
    {
     "name": "stdout",
     "output_type": "stream",
     "text": [
      "table\n",
      "    type: table\n",
      "table/columns\n",
      "    column_order: Transaction unique identifier,Price,Date of Transfer,Property Type,Old/New,Duration,Town/City,District,County,PPDCategory Type,Record Status - monthly file only\n",
      "table/columns/County\n",
      "table/columns/County/data\n",
      "    dtype: str\n",
      "table/columns/County/indices\n",
      "table/columns/Date of Transfer\n",
      "table/columns/Date of Transfer/data\n",
      "    dtype: str\n",
      "table/columns/Date of Transfer/indices\n",
      "table/columns/District\n",
      "table/columns/District/data\n",
      "    dtype: str\n",
      "table/columns/District/indices\n",
      "table/columns/Duration\n",
      "table/columns/Duration/data\n",
      "    dtype: str\n",
      "table/columns/Duration/indices\n",
      "table/columns/Old\n",
      "table/columns/Old/New\n",
      "table/columns/Old/New/data\n",
      "    dtype: str\n",
      "table/columns/Old/New/indices\n",
      "table/columns/PPDCategory Type\n",
      "table/columns/PPDCategory Type/data\n",
      "    dtype: str\n",
      "table/columns/PPDCategory Type/indices\n",
      "table/columns/Price\n",
      "table/columns/Price/data\n",
      "table/columns/Property Type\n",
      "table/columns/Property Type/data\n",
      "    dtype: str\n",
      "table/columns/Property Type/indices\n",
      "table/columns/Record Status - monthly file only\n",
      "table/columns/Record Status - monthly file only/data\n",
      "    dtype: str\n",
      "table/columns/Record Status - monthly file only/indices\n",
      "table/columns/Town\n",
      "table/columns/Town/City\n",
      "table/columns/Town/City/data\n",
      "    dtype: str\n",
      "table/columns/Town/City/indices\n",
      "table/columns/Transaction unique identifier\n",
      "table/columns/Transaction unique identifier/data\n",
      "    dtype: str\n",
      "table/columns/Transaction unique identifier/indices\n"
     ]
    }
   ],
   "source": [
    "import h5py\n",
    "\n",
    "# Open the HDF5 file\n",
    "with h5py.File('large_data1.hdf5', 'r') as file:\n",
    "    # List all groups and datasets\n",
    "    def print_attrs(name, obj):\n",
    "        print(name)\n",
    "        for key, value in obj.attrs.items():\n",
    "            print(f\"    {key}: {value}\")\n",
    "\n",
    "    file.visititems(print_attrs)"
   ]
  },
  {
   "cell_type": "code",
   "execution_count": null,
   "id": "523237a1-760b-4997-b43d-67b59c4be228",
   "metadata": {},
   "outputs": [],
   "source": [
    "start_time = datetime.now()\n",
    "vaex_df.head()\n",
    "end_time = datetime.now()\n",
    "print('Duration: {}'.format(end_time - start_time))"
   ]
  },
  {
   "cell_type": "code",
   "execution_count": 54,
   "id": "f34ec307-3909-452e-9914-ed830b54d54d",
   "metadata": {},
   "outputs": [],
   "source": [
    "#Note i am getting error with the Housing price dataset and unable to proceed so will load a different dataset"
   ]
  },
  {
   "cell_type": "code",
   "execution_count": 55,
   "id": "051489fe-832a-449a-bc2b-24c80d1c552d",
   "metadata": {},
   "outputs": [],
   "source": [
    "vaex_df = vaex.open('large_data2.hdf5')"
   ]
  },
  {
   "cell_type": "code",
   "execution_count": 56,
   "id": "ad8153cc-dcb9-449a-8d06-a86ecd20b1b1",
   "metadata": {},
   "outputs": [
    {
     "data": {
      "text/html": [
       "<table>\n",
       "<thead>\n",
       "<tr><th>#                            </th><th style=\"text-align: right;\">       f1</th><th style=\"text-align: right;\">        f2</th><th style=\"text-align: right;\">       f3</th><th style=\"text-align: right;\">      f4</th><th style=\"text-align: right;\">  target</th></tr>\n",
       "</thead>\n",
       "<tbody>\n",
       "<tr><td><i style='opacity: 0.6'>0</i></td><td style=\"text-align: right;\"> 0.203936</td><td style=\"text-align: right;\">-0.291191 </td><td style=\"text-align: right;\">-0.617251</td><td style=\"text-align: right;\">-1.4613 </td><td style=\"text-align: right;\"> 10.7967</td></tr>\n",
       "<tr><td><i style='opacity: 0.6'>1</i></td><td style=\"text-align: right;\">-1.19543 </td><td style=\"text-align: right;\"> 0.0692141</td><td style=\"text-align: right;\"> 0.291861</td><td style=\"text-align: right;\"> 1.97251</td><td style=\"text-align: right;\"> 11.154 </td></tr>\n",
       "</tbody>\n",
       "</table>"
      ],
      "text/plain": [
       "  #         f1          f2         f3        f4    target\n",
       "  0   0.203936  -0.291191   -0.617251  -1.4613    10.7967\n",
       "  1  -1.19543    0.0692141   0.291861   1.97251   11.154"
      ]
     },
     "execution_count": 56,
     "metadata": {},
     "output_type": "execute_result"
    }
   ],
   "source": [
    "vaex_df.head(2)"
   ]
  },
  {
   "cell_type": "code",
   "execution_count": 57,
   "id": "eac35fc1-127f-42bb-9a1f-fe1dff0457d9",
   "metadata": {},
   "outputs": [
    {
     "data": {
      "text/html": [
       "<style>.vaex-description pre {\n",
       "          max-width : 450px;\n",
       "          white-space : nowrap;\n",
       "          overflow : hidden;\n",
       "          text-overflow: ellipsis;\n",
       "        }\n",
       "\n",
       "        .vex-description pre:hover {\n",
       "          max-width : initial;\n",
       "          white-space: pre;\n",
       "        }</style>"
      ],
      "text/plain": [
       "<IPython.core.display.HTML object>"
      ]
     },
     "metadata": {},
     "output_type": "display_data"
    },
    {
     "data": {
      "text/html": [
       "<div><h2>large_data2</h2> <b>rows</b>: 30,000,000</div><h2>Columns:</h2><table class='table-striped'><thead><tr><th>column</th><th>type</th><th>unit</th><th>description</th><th>expression</th></tr></thead><tr><td>f1</td><td>float64</td><td></td><td ><pre></pre></td><td></td></tr><tr><td>f2</td><td>float64</td><td></td><td ><pre></pre></td><td></td></tr><tr><td>f3</td><td>float64</td><td></td><td ><pre></pre></td><td></td></tr><tr><td>f4</td><td>float64</td><td></td><td ><pre></pre></td><td></td></tr><tr><td>target</td><td>float64</td><td></td><td ><pre></pre></td><td></td></tr></table><h2>Data:</h2><table>\n",
       "<thead>\n",
       "<tr><th>#                                     </th><th>f1                 </th><th>f2                 </th><th>f3                 </th><th>f4                 </th><th>target             </th></tr>\n",
       "</thead>\n",
       "<tbody>\n",
       "<tr><td><i style='opacity: 0.6'>0</i>         </td><td>0.2039364134169251 </td><td>-0.2911912434464365</td><td>-0.6172506275573411</td><td>-1.4613004682247677</td><td>10.796659858701169 </td></tr>\n",
       "<tr><td><i style='opacity: 0.6'>1</i>         </td><td>-1.1954319363438273</td><td>0.0692141200480373 </td><td>0.2918614583159025 </td><td>1.972510773628913  </td><td>11.154018481624252 </td></tr>\n",
       "<tr><td><i style='opacity: 0.6'>2</i>         </td><td>-2.560271179602473 </td><td>-0.8278455734644672</td><td>0.405551105373079  </td><td>-0.132588032373409 </td><td>-20.342684087339368</td></tr>\n",
       "<tr><td><i style='opacity: 0.6'>3</i>         </td><td>-1.131196024065346 </td><td>0.2526537746369036 </td><td>0.9611753903309566 </td><td>1.2368730853222871 </td><td>1.4076376438414044 </td></tr>\n",
       "<tr><td><i style='opacity: 0.6'>4</i>         </td><td>0.8587744822912612 </td><td>-0.4616051669806438</td><td>1.0954977123310334 </td><td>-0.871580119136727 </td><td>-17.04305967383484 </td></tr>\n",
       "<tr><td>...                                   </td><td>...                </td><td>...                </td><td>...                </td><td>...                </td><td>...                </td></tr>\n",
       "<tr><td><i style='opacity: 0.6'>29,999,995</i></td><td>0.7465581879179586 </td><td>-0.5143315719740297</td><td>0.2015832974142761 </td><td>-0.2761735698336495</td><td>-14.371707257008556</td></tr>\n",
       "<tr><td><i style='opacity: 0.6'>29,999,996</i></td><td>1.2163277033096271 </td><td>-0.6103644040992704</td><td>-0.7939603278498751</td><td>0.0535440557903687 </td><td>-4.066009417214794 </td></tr>\n",
       "<tr><td><i style='opacity: 0.6'>29,999,997</i></td><td>-0.1838114806406746</td><td>0.5112557366595548 </td><td>-1.249998913558328 </td><td>0.5638711731716392 </td><td>9.954830199824638  </td></tr>\n",
       "<tr><td><i style='opacity: 0.6'>29,999,998</i></td><td>-0.7152634524711226</td><td>2.3200281477733213 </td><td>-0.1306523149658882</td><td>-0.7947328154284156</td><td>52.81310080819709  </td></tr>\n",
       "<tr><td><i style='opacity: 0.6'>29,999,999</i></td><td>1.3134673636827223 </td><td>-1.028300938211165 </td><td>-0.4281191413438315</td><td>-1.876144193061341 </td><td>-49.97451744926938 </td></tr>\n",
       "</tbody>\n",
       "</table>"
      ],
      "text/plain": [
       "<IPython.core.display.HTML object>"
      ]
     },
     "metadata": {},
     "output_type": "display_data"
    }
   ],
   "source": [
    "vaex_df.info()"
   ]
  },
  {
   "cell_type": "code",
   "execution_count": 59,
   "id": "b1b35ea6-5ba9-4a2c-9f6a-2ea9490fac65",
   "metadata": {},
   "outputs": [],
   "source": [
    "# Splliting data into Train and Test\n",
    "vaex_df = vaex_df.shuffle()\n",
    "df_train, df_test = vaex_df.ml.train_test_split(test_size=0.2)"
   ]
  },
  {
   "cell_type": "code",
   "execution_count": 74,
   "id": "0cf3f491-c647-4c61-8720-78934945ab9c",
   "metadata": {},
   "outputs": [],
   "source": [
    "features = ['f1','f2','f3','f4']\n",
    "target = 'target'\n"
   ]
  },
  {
   "cell_type": "code",
   "execution_count": 60,
   "id": "ef67e7b3-9e3b-4821-8043-5f7ef88f4b00",
   "metadata": {},
   "outputs": [
    {
     "data": {
      "text/plain": [
       "(24000000, 5)"
      ]
     },
     "execution_count": 60,
     "metadata": {},
     "output_type": "execute_result"
    }
   ],
   "source": [
    "df_train.shape"
   ]
  },
  {
   "cell_type": "code",
   "execution_count": 77,
   "id": "6fb57e08-57dd-4bff-8171-c3a76e6d1a9c",
   "metadata": {},
   "outputs": [
    {
     "data": {
      "text/plain": [
       "(6000000, 5)"
      ]
     },
     "execution_count": 77,
     "metadata": {},
     "output_type": "execute_result"
    }
   ],
   "source": [
    "df_test.shape"
   ]
  },
  {
   "cell_type": "code",
   "execution_count": 79,
   "id": "d876766c-3228-4026-b4de-73793800c783",
   "metadata": {},
   "outputs": [
    {
     "data": {
      "application/vnd.jupyter.widget-view+json": {
       "model_id": "8676bb318d4247bc987e86372dc1e085",
       "version_major": 2,
       "version_minor": 0
      },
      "text/plain": [
       "HBox(children=(FloatProgress(value=0.0, max=1.0), Label(value='In progress...')))"
      ]
     },
     "metadata": {},
     "output_type": "display_data"
    }
   ],
   "source": [
    "from vaex.ml.sklearn import IncrementalPredictor\n",
    "from sklearn.linear_model import SGDRegressor\n",
    "\n",
    "features = ['f1','f2','f3','f4']\n",
    "target = 'target'\n",
    "\n",
    "model = SGDRegressor()\n",
    "\n",
    "vaex_model = IncrementalPredictor(features=features,target=target,model=model,batch_size=500000)\n",
    "\n",
    "vaex_model.fit(df=df_train,progress='widget')"
   ]
  },
  {
   "cell_type": "code",
   "execution_count": 80,
   "id": "4ac0a6ae-9557-4cd7-9cf0-040b23e8fbbf",
   "metadata": {},
   "outputs": [],
   "source": [
    "df_test = vaex_model.transform(df_test)"
   ]
  },
  {
   "cell_type": "code",
   "execution_count": 81,
   "id": "0b6627dd-e7ca-4828-a142-6517abcc74a0",
   "metadata": {},
   "outputs": [
    {
     "data": {
      "text/html": [
       "<table>\n",
       "<thead>\n",
       "<tr><th>#                            </th><th style=\"text-align: right;\">       f1</th><th style=\"text-align: right;\">        f2</th><th style=\"text-align: right;\">       f3</th><th style=\"text-align: right;\">        f4</th><th style=\"text-align: right;\">   target</th><th style=\"text-align: right;\">  prediction</th></tr>\n",
       "</thead>\n",
       "<tbody>\n",
       "<tr><td><i style='opacity: 0.6'>0</i></td><td style=\"text-align: right;\"> 0.871427</td><td style=\"text-align: right;\"> 0.385704 </td><td style=\"text-align: right;\">-0.576024</td><td style=\"text-align: right;\"> 0.0517608</td><td style=\"text-align: right;\"> 33.2174 </td><td style=\"text-align: right;\">    8.86781 </td></tr>\n",
       "<tr><td><i style='opacity: 0.6'>1</i></td><td style=\"text-align: right;\"> 0.83742 </td><td style=\"text-align: right;\"> 0.0459773</td><td style=\"text-align: right;\">-0.56589 </td><td style=\"text-align: right;\">-0.406283 </td><td style=\"text-align: right;\">-14.3061 </td><td style=\"text-align: right;\">    0.645911</td></tr>\n",
       "<tr><td><i style='opacity: 0.6'>2</i></td><td style=\"text-align: right;\"> 0.679035</td><td style=\"text-align: right;\"> 0.38921  </td><td style=\"text-align: right;\">-0.416018</td><td style=\"text-align: right;\"> 0.330559 </td><td style=\"text-align: right;\"> -6.8519 </td><td style=\"text-align: right;\">    9.01351 </td></tr>\n",
       "<tr><td><i style='opacity: 0.6'>3</i></td><td style=\"text-align: right;\">-1.01093 </td><td style=\"text-align: right;\"> 0.670774 </td><td style=\"text-align: right;\"> 0.856548</td><td style=\"text-align: right;\"> 2.40858  </td><td style=\"text-align: right;\"> 24.5695 </td><td style=\"text-align: right;\">   16.2453  </td></tr>\n",
       "<tr><td><i style='opacity: 0.6'>4</i></td><td style=\"text-align: right;\"> 0.199121</td><td style=\"text-align: right;\"> 1.16584  </td><td style=\"text-align: right;\">-0.385062</td><td style=\"text-align: right;\"> 0.210537 </td><td style=\"text-align: right;\"> 42.399  </td><td style=\"text-align: right;\">   27.6523  </td></tr>\n",
       "<tr><td><i style='opacity: 0.6'>5</i></td><td style=\"text-align: right;\"> 0.647331</td><td style=\"text-align: right;\"> 1.68898  </td><td style=\"text-align: right;\"> 0.946893</td><td style=\"text-align: right;\">-1.21723  </td><td style=\"text-align: right;\"> 40.9985 </td><td style=\"text-align: right;\">   40.3065  </td></tr>\n",
       "<tr><td><i style='opacity: 0.6'>6</i></td><td style=\"text-align: right;\">-2.23272 </td><td style=\"text-align: right;\">-0.759682 </td><td style=\"text-align: right;\">-1.57902 </td><td style=\"text-align: right;\"> 1.2841   </td><td style=\"text-align: right;\">  4.36165</td><td style=\"text-align: right;\">  -18.7762  </td></tr>\n",
       "<tr><td><i style='opacity: 0.6'>7</i></td><td style=\"text-align: right;\">-0.050601</td><td style=\"text-align: right;\"> 0.0094528</td><td style=\"text-align: right;\"> 0.380894</td><td style=\"text-align: right;\"> 1.2171   </td><td style=\"text-align: right;\">  5.3298 </td><td style=\"text-align: right;\">    0.135463</td></tr>\n",
       "<tr><td><i style='opacity: 0.6'>8</i></td><td style=\"text-align: right;\">-1.99909 </td><td style=\"text-align: right;\"> 1.08901  </td><td style=\"text-align: right;\"> 0.447839</td><td style=\"text-align: right;\">-1.55567  </td><td style=\"text-align: right;\"> 70.8719 </td><td style=\"text-align: right;\">   25.6744  </td></tr>\n",
       "<tr><td><i style='opacity: 0.6'>9</i></td><td style=\"text-align: right;\"> 1.93424 </td><td style=\"text-align: right;\">-1.8708   </td><td style=\"text-align: right;\">-1.52931 </td><td style=\"text-align: right;\">-1.36048  </td><td style=\"text-align: right;\">-40.2861 </td><td style=\"text-align: right;\">  -45.691   </td></tr>\n",
       "</tbody>\n",
       "</table>"
      ],
      "text/plain": [
       "  #         f1          f2         f3          f4     target    prediction\n",
       "  0   0.871427   0.385704   -0.576024   0.0517608   33.2174       8.86781\n",
       "  1   0.83742    0.0459773  -0.56589   -0.406283   -14.3061       0.645911\n",
       "  2   0.679035   0.38921    -0.416018   0.330559    -6.8519       9.01351\n",
       "  3  -1.01093    0.670774    0.856548   2.40858     24.5695      16.2453\n",
       "  4   0.199121   1.16584    -0.385062   0.210537    42.399       27.6523\n",
       "  5   0.647331   1.68898     0.946893  -1.21723     40.9985      40.3065\n",
       "  6  -2.23272   -0.759682   -1.57902    1.2841       4.36165    -18.7762\n",
       "  7  -0.050601   0.0094528   0.380894   1.2171       5.3298       0.135463\n",
       "  8  -1.99909    1.08901     0.447839  -1.55567     70.8719      25.6744\n",
       "  9   1.93424   -1.8708     -1.52931   -1.36048    -40.2861     -45.691"
      ]
     },
     "execution_count": 81,
     "metadata": {},
     "output_type": "execute_result"
    }
   ],
   "source": [
    "df_test.head()"
   ]
  },
  {
   "cell_type": "code",
   "execution_count": 82,
   "id": "fb55ec31-efc4-41cb-b72f-f6d44b197e45",
   "metadata": {},
   "outputs": [
    {
     "name": "stdout",
     "output_type": "stream",
     "text": [
      "0.5912153789784382\n",
      "15.967745638070154\n"
     ]
    }
   ],
   "source": [
    "from sklearn.metrics import r2_score,mean_absolute_error\n",
    "print(r2_score(df_test['target'].values,df_test['prediction'].values))\n",
    "print(mean_absolute_error(df_test['target'].values,df_test['prediction'].values))"
   ]
  },
  {
   "cell_type": "markdown",
   "id": "4be2aa68-a2d0-4212-bf64-683c96fcb728",
   "metadata": {},
   "source": [
    "# Using Linear Regression on Large_Data2.hdf5"
   ]
  },
  {
   "cell_type": "code",
   "execution_count": 120,
   "id": "2e50548d-5e45-4c28-9cb8-7fabe89f8f80",
   "metadata": {},
   "outputs": [
    {
     "name": "stdout",
     "output_type": "stream",
     "text": [
      "Available datasets: ['table']\n"
     ]
    }
   ],
   "source": [
    "import h5py\n",
    "\n",
    "with h5py.File('large_data2.hdf5', 'r') as h5_file:\n",
    "    # List the names of all datasets in the file\n",
    "    dataset_names = list(h5_file.keys())\n",
    "    print(\"Available datasets:\", dataset_names)"
   ]
  },
  {
   "cell_type": "code",
   "execution_count": null,
   "id": "6de8da07-5b0e-42bd-adf2-debf6ba5a7b8",
   "metadata": {},
   "outputs": [],
   "source": [
    "import h5py\n",
    "import numpy as np\n",
    "from sklearn.model_selection import train_test_split\n",
    "from sklearn.linear_model import LinearRegression\n",
    "from sklearn.metrics import mean_squared_error\n",
    "\n",
    "# Step 1: Load the HDF5 data\n",
    "with h5py.File('your_data.hdf5', 'r') as h5_file:\n",
    "    X = h5_file['features_dataset'][:]  # Load features from the dataset\n",
    "    y = h5_file['target_dataset'][:]    # Load target variable from the dataset\n",
    "\n",
    "# Step 2: Data Preprocessing (if necessary)\n",
    "# Preprocess and prepare your data as needed.\n",
    "\n",
    "# Step 3: Split the data into training and testing sets\n",
    "X_train, X_test, y_train, y_test = train_test_split(X, y, test_size=0.2, random_state=42)\n",
    "\n",
    "# Step 4: Train the Linear Regression Model\n",
    "model = LinearRegression()\n",
    "model.fit(X_train, y_train)\n",
    "\n",
    "# Step 5: Evaluate the Model\n",
    "y_pred = model.predict(X_test)\n",
    "mse = mean_squared_error(y_test, y_pred)\n",
    "print(f\"Mean Squared Error: {mse}\")"
   ]
  }
 ],
 "metadata": {
  "kernelspec": {
   "display_name": "Python 3 (ipykernel)",
   "language": "python",
   "name": "python3"
  },
  "language_info": {
   "codemirror_mode": {
    "name": "ipython",
    "version": 3
   },
   "file_extension": ".py",
   "mimetype": "text/x-python",
   "name": "python",
   "nbconvert_exporter": "python",
   "pygments_lexer": "ipython3",
   "version": "3.10.4"
  }
 },
 "nbformat": 4,
 "nbformat_minor": 5
}
